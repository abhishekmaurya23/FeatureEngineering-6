{
 "cells": [
  {
   "cell_type": "code",
   "execution_count": null,
   "id": "1a45b1da-0fab-4024-a9b2-04dcd1daac60",
   "metadata": {},
   "outputs": [],
   "source": []
  },
  {
   "cell_type": "code",
   "execution_count": null,
   "id": "515a417d-40be-4322-a4dd-6794c5c99c08",
   "metadata": {},
   "outputs": [],
   "source": []
  },
  {
   "cell_type": "markdown",
   "id": "af863b09-d51c-43cd-b71f-e35f86c8fa33",
   "metadata": {},
   "source": [
    "ANS:-1"
   ]
  },
  {
   "cell_type": "code",
   "execution_count": 1,
   "id": "f9823696-d70c-406c-ad27-b3a0668f2f2d",
   "metadata": {},
   "outputs": [
    {
     "name": "stdout",
     "output_type": "stream",
     "text": [
      "Pearson Correlation Coefficient: 0.9172670762619921\n"
     ]
    }
   ],
   "source": [
    "from scipy.stats import pearsonr\n",
    "\n",
    "# Assuming you have collected data on study time and exam scores\n",
    "study_time = [5, 6, 3, 7, 4, 5, 6, 7, 8, 4]\n",
    "exam_scores = [65, 78, 56, 89, 73, 65, 80, 92, 94, 70]\n",
    "\n",
    "# Calculate the Pearson correlation coefficient\n",
    "correlation_coefficient, p_value = pearsonr(study_time, exam_scores)\n",
    "\n",
    "# Print the Pearson correlation coefficient\n",
    "print(f\"Pearson Correlation Coefficient: {correlation_coefficient}\")\n"
   ]
  },
  {
   "cell_type": "markdown",
   "id": "b0f67a59-839f-49b6-b844-f143426d1b9e",
   "metadata": {},
   "source": [
    "ANS:-2"
   ]
  },
  {
   "cell_type": "code",
   "execution_count": 2,
   "id": "50fcec64-d755-486b-9c20-9fab42bae892",
   "metadata": {},
   "outputs": [
    {
     "name": "stdout",
     "output_type": "stream",
     "text": [
      "Spearman's Rank Correlation Coefficient: 0.9904608312436429\n"
     ]
    }
   ],
   "source": [
    "from scipy.stats import spearmanr\n",
    "\n",
    "# Assuming you have collected data on sleep hours and job satisfaction\n",
    "sleep_hours = [7, 6, 8, 5, 6, 7, 8, 6, 5, 7]\n",
    "job_satisfaction = [8, 6, 9, 5, 6, 7, 9, 6, 5, 8]\n",
    "\n",
    "# Calculate the Spearman's rank correlation coefficient\n",
    "correlation_coefficient, p_value = spearmanr(sleep_hours, job_satisfaction)\n",
    "\n",
    "# Print the Spearman's rank correlation coefficient\n",
    "print(f\"Spearman's Rank Correlation Coefficient: {correlation_coefficient}\")\n"
   ]
  },
  {
   "cell_type": "markdown",
   "id": "d75f8dda-232a-48ad-bb86-b1c580568f11",
   "metadata": {},
   "source": [
    "ANS:-3"
   ]
  },
  {
   "cell_type": "code",
   "execution_count": 3,
   "id": "66863160-cf2b-429d-9bb4-1d04605b1f39",
   "metadata": {},
   "outputs": [
    {
     "name": "stdout",
     "output_type": "stream",
     "text": [
      "Pearson Correlation Coefficient: 0.9129802435608755\n",
      "Pearson p-value: 1.0352005412453677e-20\n",
      "Spearman's Rank Correlation Coefficient: 0.9276794053487812\n",
      "Spearman p-value: 1.3216936539399918e-22\n"
     ]
    }
   ],
   "source": [
    "from scipy.stats import pearsonr, spearmanr\n",
    "import numpy as np\n",
    "\n",
    "# Assuming you have collected data on hours of exercise and BMI\n",
    "hours_exercise = [3, 4, 5, 2, 3, 4, 2, 5, 6, 3, 4, 2, 5, 6, 7, 3, 2, 4, 5, 6, 4, 3, 2, 4, 5, 6, 3, 4, 5, 2, 3, 4, 2, 5, 6, 3, 4, 2, 5, 6, 7, 3, 2, 4, 5, 6, 4, 3, 2, 4, 5]\n",
    "bmi = [22.5, 25.0, 29.0, 24.5, 27.0, 26.2, 25.0, 30.1, 31.2, 26.5, 29.0, 25.5, 30.6, 32.1, 33.2, 27.5, 25.5, 28.0, 30.2, 32.0, 28.5, 27.5, 26.0, 28.5, 31.0, 32.5, 27.0, 29.5, 31.0, 25.5, 27.0, 29.0, 26.0, 30.0, 33.0, 27.5, 29.5, 26.5, 30.2, 31.5, 34.0, 28.0, 26.5, 29.5, 31.2, 33.0, 29.0, 27.5, 26.0, 28.5, 30.5]\n",
    "\n",
    "# Calculate the Pearson correlation coefficient\n",
    "pearson_corr, pearson_p_value = pearsonr(hours_exercise, bmi)\n",
    "\n",
    "# Calculate the Spearman's rank correlation coefficient\n",
    "spearman_corr, spearman_p_value = spearmanr(hours_exercise, bmi)\n",
    "\n",
    "# Print the results\n",
    "print(f\"Pearson Correlation Coefficient: {pearson_corr}\")\n",
    "print(f\"Pearson p-value: {pearson_p_value}\")\n",
    "print(f\"Spearman's Rank Correlation Coefficient: {spearman_corr}\")\n",
    "print(f\"Spearman p-value: {spearman_p_value}\")\n"
   ]
  },
  {
   "cell_type": "markdown",
   "id": "c3dc7f95-e49c-40e7-b274-498ff444434c",
   "metadata": {},
   "source": [
    "ANS:-4"
   ]
  },
  {
   "cell_type": "code",
   "execution_count": 4,
   "id": "f7dce2f2-f903-43f2-9f5f-5d8ff1bb6704",
   "metadata": {},
   "outputs": [
    {
     "name": "stdout",
     "output_type": "stream",
     "text": [
      "Pearson Correlation Coefficient: 0.9633953646533415\n"
     ]
    }
   ],
   "source": [
    "from scipy.stats import pearsonr\n",
    "\n",
    "# Assuming you have collected data on hours of TV and physical activity\n",
    "hours_tv = [3, 4, 5, 2, 3, 4, 2, 5, 6, 3, 4, 2, 5, 6, 7, 3, 2, 4, 5, 6, 4, 3, 2, 4, 5, 6, 3, 4, 5, 2, 3, 4, 2, 5, 6, 3, 4, 2, 5, 6, 7, 3, 2, 4, 5, 6, 4, 3, 2, 4, 5]\n",
    "physical_activity = [2, 3, 3, 1, 2, 3, 1, 3, 4, 2, 3, 1, 3, 4, 5, 2, 1, 3, 4, 5, 3, 2, 1, 3, 4, 5, 2, 3, 3, 1, 2, 3, 1, 3, 4, 2, 3, 1, 3, 4, 5, 2, 1, 3, 4, 5, 3, 2, 1, 3, 4]\n",
    "\n",
    "# Calculate the Pearson correlation coefficient\n",
    "correlation_coefficient, p_value = pearsonr(hours_tv, physical_activity)\n",
    "\n",
    "# Print the Pearson correlation coefficient\n",
    "print(f\"Pearson Correlation Coefficient: {correlation_coefficient}\")\n"
   ]
  },
  {
   "cell_type": "code",
   "execution_count": null,
   "id": "eb84c569-4dd2-4978-b03a-1a4954353791",
   "metadata": {},
   "outputs": [],
   "source": []
  }
 ],
 "metadata": {
  "kernelspec": {
   "display_name": "Python 3 (ipykernel)",
   "language": "python",
   "name": "python3"
  },
  "language_info": {
   "codemirror_mode": {
    "name": "ipython",
    "version": 3
   },
   "file_extension": ".py",
   "mimetype": "text/x-python",
   "name": "python",
   "nbconvert_exporter": "python",
   "pygments_lexer": "ipython3",
   "version": "3.10.6"
  }
 },
 "nbformat": 4,
 "nbformat_minor": 5
}
